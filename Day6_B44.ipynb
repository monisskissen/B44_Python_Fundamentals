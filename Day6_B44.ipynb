{
 "cells": [
  {
   "cell_type": "code",
   "execution_count": null,
   "metadata": {
    "collapsed": true
   },
   "outputs": [],
   "source": [
    "continuation with lists"
   ]
  },
  {
   "cell_type": "code",
   "execution_count": 2,
   "metadata": {
    "collapsed": true
   },
   "outputs": [],
   "source": [
    "students = ['ranga', 'venkat', 'vijaya', 'khatija', 'swetha', 'kiran', 'abdul']"
   ]
  },
  {
   "cell_type": "code",
   "execution_count": 3,
   "metadata": {},
   "outputs": [
    {
     "data": {
      "text/plain": [
       "list"
      ]
     },
     "execution_count": 3,
     "metadata": {},
     "output_type": "execute_result"
    }
   ],
   "source": [
    "type(students)"
   ]
  },
  {
   "cell_type": "code",
   "execution_count": 8,
   "metadata": {},
   "outputs": [
    {
     "name": "stdout",
     "output_type": "stream",
     "text": [
      "Keep up the good work, Ranga\n"
     ]
    }
   ],
   "source": [
    "message = f\"Keep up the good work, {students[0].title()}\"\n",
    "print(message)"
   ]
  },
  {
   "cell_type": "code",
   "execution_count": 5,
   "metadata": {
    "collapsed": true
   },
   "outputs": [],
   "source": [
    "#INTODUCTION TO FOR LOOPS -----> A look into general syntax\n",
    "#general syntax for loop:"
   ]
  },
  {
   "cell_type": "code",
   "execution_count": null,
   "metadata": {
    "collapsed": true
   },
   "outputs": [],
   "source": [
    "for tempvar in mainvar(students):\n",
    "    print(tempvar)"
   ]
  },
  {
   "cell_type": "code",
   "execution_count": 6,
   "metadata": {},
   "outputs": [
    {
     "name": "stdout",
     "output_type": "stream",
     "text": [
      "keep up the good work, Ranga\n",
      "keep up the good work, Venkat\n",
      "keep up the good work, Vijaya\n",
      "keep up the good work, Khatija\n",
      "keep up the good work, Swetha\n",
      "keep up the good work, Kiran\n",
      "keep up the good work, Abdul\n"
     ]
    }
   ],
   "source": [
    "for x in students:\n",
    "    print(f\"keep up the good work, {x.title()}\")"
   ]
  },
  {
   "cell_type": "code",
   "execution_count": 10,
   "metadata": {},
   "outputs": [
    {
     "name": "stdout",
     "output_type": "stream",
     "text": [
      "Keep up the good work, Ranga\n",
      "Keep up the good work, Venkat\n",
      "Keep up the good work, Vijaya\n",
      "Keep up the good work, Khatija\n",
      "Keep up the good work, Swetha\n",
      "Keep up the good work, Kiran\n",
      "Keep up the good work, Abdul\n"
     ]
    }
   ],
   "source": [
    "for ironman in students:\n",
    "    print(f\"Keep up the good work, {ironman.title()}\")"
   ]
  },
  {
   "cell_type": "code",
   "execution_count": 14,
   "metadata": {},
   "outputs": [
    {
     "name": "stdout",
     "output_type": "stream",
     "text": [
      "Keep up the good work, Ranga\n",
      "I look forward to reciving your practice file today, Ranga\n",
      "\n",
      "Keep up the good work, Venkat\n",
      "I look forward to reciving your practice file today, Venkat\n",
      "\n",
      "Keep up the good work, Vijaya\n",
      "I look forward to reciving your practice file today, Vijaya\n",
      "\n",
      "Keep up the good work, Khatija\n",
      "I look forward to reciving your practice file today, Khatija\n",
      "\n",
      "Keep up the good work, Swetha\n",
      "I look forward to reciving your practice file today, Swetha\n",
      "\n",
      "Keep up the good work, Kiran\n",
      "I look forward to reciving your practice file today, Kiran\n",
      "\n",
      "Keep up the good work, Abdul\n",
      "I look forward to reciving your practice file today, Abdul\n",
      "\n"
     ]
    }
   ],
   "source": [
    "#writing in the loop ----> applied to all the elements.\n",
    "\n",
    "#writing out of the loop ----> applied only once\n",
    "for x in students:\n",
    "    print(f\"Keep up the good work, {x.title()}\")\n",
    "    print(f\"I look forward to reciving your practice file today, {x.title()}\\n\")"
   ]
  },
  {
   "cell_type": "code",
   "execution_count": 17,
   "metadata": {},
   "outputs": [
    {
     "name": "stdout",
     "output_type": "stream",
     "text": [
      "Keep up the good work, Ranga\n",
      "I look forward to receiving your practice file today, Ranga\n",
      "\n",
      "Keep up the good work, Venkat\n",
      "I look forward to receiving your practice file today, Venkat\n",
      "\n",
      "Keep up the good work, Vijaya\n",
      "I look forward to receiving your practice file today, Vijaya\n",
      "\n",
      "Keep up the good work, Khatija\n",
      "I look forward to receiving your practice file today, Khatija\n",
      "\n",
      "Keep up the good work, Swetha\n",
      "I look forward to receiving your practice file today, Swetha\n",
      "\n",
      "Keep up the good work, Kiran\n",
      "I look forward to receiving your practice file today, Kiran\n",
      "\n",
      "Keep up the good work, Abdul\n",
      "I look forward to receiving your practice file today, Abdul\n",
      "\n",
      "Thank you for showing interest to learn Python\n"
     ]
    }
   ],
   "source": [
    "for x in students:\n",
    "    print(f\"Keep up the good work, {x.title()}\")\n",
    "    print(f\"I look forward to receiving your practice file today, {x.title()}\\n\")\n",
    "print(\"Thank you for showing interest to learn Python\")"
   ]
  },
  {
   "cell_type": "code",
   "execution_count": null,
   "metadata": {
    "collapsed": true
   },
   "outputs": [],
   "source": [
    "## Introduction to range function:"
   ]
  },
  {
   "cell_type": "code",
   "execution_count": null,
   "metadata": {
    "collapsed": true
   },
   "outputs": [],
   "source": [
    "# general syntax: range(start,stop, stepcount)"
   ]
  },
  {
   "cell_type": "code",
   "execution_count": null,
   "metadata": {
    "collapsed": true
   },
   "outputs": [],
   "source": [
    "## requirements: I want to print the numbers until 20"
   ]
  },
  {
   "cell_type": "code",
   "execution_count": 18,
   "metadata": {},
   "outputs": [
    {
     "name": "stdout",
     "output_type": "stream",
     "text": [
      "[0, 1, 2, 3, 4, 5, 6, 7, 8, 9, 10, 11, 12, 13, 14, 15, 16, 17, 18, 19]\n"
     ]
    }
   ],
   "source": [
    "numbers=list(range(0,20))\n",
    "print(numbers)"
   ]
  },
  {
   "cell_type": "code",
   "execution_count": 20,
   "metadata": {},
   "outputs": [],
   "source": [
    "#Note: last values is always exclusive"
   ]
  },
  {
   "cell_type": "code",
   "execution_count": 21,
   "metadata": {
    "collapsed": true
   },
   "outputs": [],
   "source": [
    "## print list of even numbers until 30"
   ]
  },
  {
   "cell_type": "code",
   "execution_count": 23,
   "metadata": {},
   "outputs": [
    {
     "name": "stdout",
     "output_type": "stream",
     "text": [
      "[2, 4, 6, 8, 10, 12, 14, 16, 18, 20, 22, 24, 26, 28, 30]\n"
     ]
    }
   ],
   "source": [
    "even_numbers = list(range(2,32,2))\n",
    "print(even_numbers)"
   ]
  },
  {
   "cell_type": "code",
   "execution_count": 24,
   "metadata": {
    "collapsed": true
   },
   "outputs": [],
   "source": [
    "## print list of odd numbers until 30 ----?"
   ]
  },
  {
   "cell_type": "code",
   "execution_count": 25,
   "metadata": {},
   "outputs": [
    {
     "name": "stdout",
     "output_type": "stream",
     "text": [
      "[1, 3, 5, 7, 9, 11, 13, 15, 17, 19, 21, 23, 25, 27, 29, 31]\n"
     ]
    }
   ],
   "source": [
    "odd_numbers = list(range(1,32,2))\n",
    "print(odd_numbers)"
   ]
  },
  {
   "cell_type": "code",
   "execution_count": null,
   "metadata": {
    "collapsed": true
   },
   "outputs": [],
   "source": []
  }
 ],
 "metadata": {
  "kernelspec": {
   "display_name": "Python 3",
   "language": "python",
   "name": "python3"
  },
  "language_info": {
   "codemirror_mode": {
    "name": "ipython",
    "version": 3
   },
   "file_extension": ".py",
   "mimetype": "text/x-python",
   "name": "python",
   "nbconvert_exporter": "python",
   "pygments_lexer": "ipython3",
   "version": "3.6.1"
  }
 },
 "nbformat": 4,
 "nbformat_minor": 2
}
